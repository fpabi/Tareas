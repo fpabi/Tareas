{
  "nbformat": 4,
  "nbformat_minor": 0,
  "metadata": {
    "colab": {
      "provenance": [],
      "authorship_tag": "ABX9TyPZ6gFH4t0h57z38TjLdY+r",
      "include_colab_link": true
    },
    "kernelspec": {
      "name": "python3",
      "display_name": "Python 3"
    },
    "language_info": {
      "name": "python"
    }
  },
  "cells": [
    {
      "cell_type": "markdown",
      "metadata": {
        "id": "view-in-github",
        "colab_type": "text"
      },
      "source": [
        "<a href=\"https://colab.research.google.com/github/fpabi/Tareas/blob/main/Tarea5.ipynb\" target=\"_parent\"><img src=\"https://colab.research.google.com/assets/colab-badge.svg\" alt=\"Open In Colab\"/></a>"
      ]
    },
    {
      "cell_type": "markdown",
      "source": [
        "#TAREA 5\n",
        "Fabiana Pavón Arce\n",
        "\n",
        "Prof.Lazaro Bustio\n",
        "\n",
        "###Objetivo\n",
        "Eres el gerente de un parque acuático y deseas analizar la altura de las olas en diferentes\n",
        "puntos del parque. Para ello, los estudiantes deben utilizar la biblioteca NumPy para realizar\n",
        "los siguientes cálculos:\n",
        "\n",
        "a)promedio por punto\n",
        "\n",
        "b)altura maxima por punto\n",
        "\n",
        "c)desviacion estandar por punto\n",
        "\n",
        "d)punto con la altura promedio mas alta\n",
        "\n",
        "e)dia con la altura mas alta\n",
        "\n"
      ],
      "metadata": {
        "id": "KxJ4izKn4rqv"
      }
    },
    {
      "cell_type": "code",
      "execution_count": 1,
      "metadata": {
        "id": "RIE_MPQK2-to"
      },
      "outputs": [],
      "source": [
        "import numpy as np\n",
        "\n",
        "#Cargamos los datos desde el archivo con formato CSV\n",
        "datos_olas = np.genfromtxt('datos_olas.csv', delimiter=',', skip_header=1, dtype=str)\n"
      ]
    },
    {
      "cell_type": "code",
      "source": [
        "# Extraer las alturas como números (la tercera columna)\n",
        "alturas = datos_olas[:, 2].astype(float)\n",
        "\n",
        "# Calcular la altura promedio de las olas en cada punto del parque acuático\n",
        "puntos_unicos = np.unique(datos_olas[:, 0])# se encuentran las letras de las zonas\n",
        "altura_promedio_por_punto = [np.mean(alturas[datos_olas[:, 0] == punto]) for punto in puntos_unicos]#se encuentra el promedio por punto de las zonas que ya habiamos encontrado\n",
        "for i, punto in enumerate(puntos_unicos):\n",
        "        print(f\"Zona {punto}: {altura_promedio_por_punto[i]:.2f}\\n\") # se imprimen los resultados\n",
        "\n"
      ],
      "metadata": {
        "colab": {
          "base_uri": "https://localhost:8080/"
        },
        "id": "vd5puc2h3Faz",
        "outputId": "96ddb81d-6204-42a2-eb26-7c4ed762073d"
      },
      "execution_count": 2,
      "outputs": [
        {
          "output_type": "stream",
          "name": "stdout",
          "text": [
            "Zona A: 4.63\n",
            "\n",
            "Zona B: 4.72\n",
            "\n",
            "Zona C: 4.88\n",
            "\n",
            "Zona D: 5.30\n",
            "\n",
            "Zona E: 6.09\n",
            "\n"
          ]
        }
      ]
    },
    {
      "cell_type": "code",
      "source": [],
      "metadata": {
        "id": "I9-Hu9xY6AqA"
      },
      "execution_count": null,
      "outputs": []
    }
  ]
}