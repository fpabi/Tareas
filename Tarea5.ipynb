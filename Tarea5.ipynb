{
  "nbformat": 4,
  "nbformat_minor": 0,
  "metadata": {
    "colab": {
      "provenance": [],
      "authorship_tag": "ABX9TyN1eiKB5DFrIQY65Ff0riVU",
      "include_colab_link": true
    },
    "kernelspec": {
      "name": "python3",
      "display_name": "Python 3"
    },
    "language_info": {
      "name": "python"
    }
  },
  "cells": [
    {
      "cell_type": "markdown",
      "metadata": {
        "id": "view-in-github",
        "colab_type": "text"
      },
      "source": [
        "<a href=\"https://colab.research.google.com/github/fpabi/Tareas/blob/main/Tarea5.ipynb\" target=\"_parent\"><img src=\"https://colab.research.google.com/assets/colab-badge.svg\" alt=\"Open In Colab\"/></a>"
      ]
    },
    {
      "cell_type": "markdown",
      "source": [
        "#TAREA 5\n",
        "Fabiana Pavón Arce\n",
        "\n",
        "Prof.Lazaro Bustio\n",
        "\n",
        "###Objetivo\n",
        "Eres el gerente de un parque acuático y deseas analizar la altura de las olas en diferentes\n",
        "puntos del parque. Para ello, los estudiantes deben utilizar la biblioteca NumPy para realizar\n",
        "los siguientes cálculos:\n",
        "\n",
        "a)promedio por punto\n",
        "\n",
        "b)altura maxima por punto\n",
        "\n",
        "c)desviacion estandar por punto\n",
        "\n",
        "d)punto con la altura promedio mas alta\n",
        "\n",
        "e)dia con la altura mas alta\n",
        "\n"
      ],
      "metadata": {
        "id": "KxJ4izKn4rqv"
      }
    },
    {
      "cell_type": "code",
      "execution_count": 17,
      "metadata": {
        "colab": {
          "base_uri": "https://localhost:8080/"
        },
        "id": "RIE_MPQK2-to",
        "outputId": "5fa43ac5-6c68-4eb5-ac78-74ab87ec946f"
      },
      "outputs": [
        {
          "output_type": "stream",
          "name": "stdout",
          "text": [
            "[['A' '2022-11-25' '4.878464067401625']\n",
            " ['A' '2023-03-03' '0.3210021110900163']\n",
            " ['D' '2022-09-22' '9.665051956287837']\n",
            " ['D' '2023-05-22' '2.0680294339172933']\n",
            " ['E' '2022-11-09' '8.647432687107191']\n",
            " ['D' '2023-03-27' '1.0689467329471025']\n",
            " ['D' '2023-05-18' '5.772233348630593']\n",
            " ['A' '2022-10-10' '5.438164968887866']\n",
            " ['B' '2023-05-08' '3.3816414491719025']\n",
            " ['E' '2023-01-31' '8.762145016520346']\n",
            " ['D' '2023-04-27' '6.960884071578922']\n",
            " ['D' '2022-09-28' '7.880826626274074']\n",
            " ['C' '2023-03-10' '6.33768938022759']\n",
            " ['E' '2023-05-25' '3.5855169916685914']\n",
            " ['B' '2023-02-24' '8.04451407658844']\n",
            " ['A' '2023-03-18' '9.15816323638438']\n",
            " ['A' '2023-01-24' '2.130396710979121']\n",
            " ['B' '2023-05-01' '7.619685271566826']\n",
            " ['D' '2022-12-04' '5.008194672538981']\n",
            " ['C' '2023-03-11' '6.376106329916516']\n",
            " ['D' '2023-04-27' '8.98816589845325']\n",
            " ['C' '2022-12-06' '1.7013787830619964']\n",
            " ['A' '2023-04-03' '1.9664935094620795']\n",
            " ['A' '2022-07-15' '4.674045294698473']\n",
            " ['A' '2022-11-10' '4.52179453977244']\n",
            " ['C' '2022-12-26' '0.361185236316639']\n",
            " ['A' '2023-02-23' '9.301030560065797']\n",
            " ['E' '2022-08-19' '0.8744858006687195']\n",
            " ['E' '2023-06-02' '3.8560811284006213']\n",
            " ['A' '2022-09-03' '9.341728453268308']\n",
            " ['A' '2022-08-09' '2.941613293065636']\n",
            " ['D' '2023-02-05' '4.1057206235207495']\n",
            " ['A' '2023-04-13' '2.387983633949214']\n",
            " ['A' '2022-07-14' '1.5069224745129561']\n",
            " ['B' '2023-01-24' '3.7243509692071033']\n",
            " ['D' '2022-09-05' '0.8968211113788027']\n",
            " ['E' '2022-09-07' '7.245125156792933']\n",
            " ['D' '2022-12-31' '9.823272804812238']\n",
            " ['D' '2022-12-28' '2.924172574881524']\n",
            " ['A' '2023-02-26' '1.2631885231497164']\n",
            " ['C' '2023-01-11' '6.710309844196346']\n",
            " ['D' '2022-12-29' '0.15471540883903234']\n",
            " ['A' '2022-08-06' '0.34886137404405493']\n",
            " ['C' '2023-05-10' '4.0401056204282675']\n",
            " ['C' '2022-12-07' '9.977293486806257']\n",
            " ['C' '2023-01-16' '3.2675088405430355']\n",
            " ['A' '2022-09-18' '1.6516645903680405']\n",
            " ['D' '2023-06-17' '8.273038002760089']\n",
            " ['C' '2023-01-14' '1.9243376164254933']\n",
            " ['C' '2023-02-12' '8.630804050114468']\n",
            " ['C' '2023-05-05' '6.375910220044524']\n",
            " ['A' '2022-08-03' '8.283764541126654']\n",
            " ['C' '2023-04-19' '2.536338693405522']\n",
            " ['B' '2023-05-07' '7.129113705087359']\n",
            " ['B' '2023-06-11' '1.78741110484666']\n",
            " ['A' '2022-08-22' '0.5867390238986891']\n",
            " ['C' '2023-04-12' '2.5980514198876015']\n",
            " ['B' '2022-09-09' '4.0295513099384115']\n",
            " ['E' '2022-08-03' '5.98578425140958']\n",
            " ['D' '2022-12-19' '4.027301104221154']\n",
            " ['C' '2023-05-24' '8.644414210686428']\n",
            " ['D' '2022-08-15' '9.874574551710007']\n",
            " ['A' '2023-02-10' '4.341683129281439']\n",
            " ['A' '2022-11-29' '1.810437606736518']\n",
            " ['E' '2023-03-15' '9.412948963979074']\n",
            " ['C' '2022-10-26' '0.3355721166046888']\n",
            " ['A' '2023-03-17' '7.9642810910615']\n",
            " ['E' '2023-04-22' '5.295679589766564']\n",
            " ['B' '2023-02-15' '6.030241264558558']\n",
            " ['C' '2023-06-21' '9.418160434694062']\n",
            " ['C' '2022-10-18' '3.196821524173018']\n",
            " ['D' '2023-01-06' '1.4266796082147604']\n",
            " ['C' '2022-12-12' '7.022146687374446']\n",
            " ['D' '2022-09-02' '9.33762326848273']\n",
            " ['B' '2023-06-14' '3.678915743165944']\n",
            " ['A' '2023-06-29' '2.955198952466762']\n",
            " ['D' '2023-06-17' '0.039413843205671206']\n",
            " ['A' '2022-10-17' '7.652942241377701']\n",
            " ['A' '2023-06-17' '5.0264220487452835']\n",
            " ['E' '2023-05-04' '8.728411573442415']\n",
            " ['D' '2023-04-27' '9.643993820112334']\n",
            " ['B' '2022-11-04' '3.323701306498017']\n",
            " ['A' '2022-09-06' '7.400637909448729']\n",
            " ['D' '2023-01-14' '1.1233927366926977']\n",
            " ['E' '2023-05-19' '9.14553083796824']\n",
            " ['A' '2022-10-21' '6.89500539494965']\n",
            " ['E' '2023-06-20' '0.48677187990470383']\n",
            " ['C' '2023-03-20' '9.00809713446966']\n",
            " ['D' '2023-06-05' '7.5067112364698545']\n",
            " ['E' '2022-07-24' '6.889053503509395']\n",
            " ['A' '2022-10-19' '5.796898139985943']\n",
            " ['D' '2023-04-04' '2.360683356564749']\n",
            " ['C' '2022-08-07' '7.472817838184424']\n",
            " ['B' '2022-10-21' '3.1705708177868654']\n",
            " ['E' '2023-05-10' '6.323828011905608']\n",
            " ['C' '2022-09-23' '0.29182094851830653']\n",
            " ['A' '2023-04-01' '9.301530195271667']\n",
            " ['C' '2022-11-24' '1.18556257255385']\n",
            " ['D' '2023-03-19' '8.378766981477224']\n",
            " ['A' '2022-07-26' '4.552429570593359']]\n"
          ]
        }
      ],
      "source": [
        "import numpy as np\n",
        "\n",
        "#Cargamos los datos desde el archivo con formato CSV\n",
        "datos_olas = np.genfromtxt('datos_olas.csv', delimiter=',', skip_header=1, dtype=str)\n",
        "print(datos_olas)"
      ]
    },
    {
      "cell_type": "markdown",
      "source": [
        "Se cargaron los datos del archivo .cvs a un arreglo y se comprobo imprimiendolo que quedara bien"
      ],
      "metadata": {
        "id": "bCYih2-ujcnG"
      }
    },
    {
      "cell_type": "code",
      "source": [
        "# Extraer las alturas como números (la tercera columna)\n",
        "alturas = datos_olas[:, 2].astype(float)\n",
        "\n",
        "# Calcular la altura promedio de las olas en cada punto del parque acuático\n",
        "puntos_unicos = np.unique(datos_olas[:, 0])# se encuentran las letras de las zonas\n",
        "altura_promedio_por_punto = [np.mean(alturas[datos_olas[:, 0] == punto]) for punto in puntos_unicos]#se encuentra el promedio por punto de las zonas que ya habiamos encontrado\n",
        "for i, punto in enumerate(puntos_unicos):\n",
        "        print(\"Zona\",punto,\":\" ,altura_promedio_por_punto[i],\"\\n\") # se imprimen los resultados\n",
        "\n"
      ],
      "metadata": {
        "colab": {
          "base_uri": "https://localhost:8080/"
        },
        "id": "vd5puc2h3Faz",
        "outputId": "f7a0b6b2-933e-46ae-d473-6974c1558ffb"
      },
      "execution_count": 20,
      "outputs": [
        {
          "output_type": "stream",
          "name": "stdout",
          "text": [
            "Zona A : 4.634465075380814 \n",
            "\n",
            "Zona B : 4.719972456219645 \n",
            "\n",
            "Zona C : 4.882383317665143 \n",
            "\n",
            "Zona D : 5.304550573915486 \n",
            "\n",
            "Zona E : 6.088485385217427 \n",
            "\n"
          ]
        }
      ]
    },
    {
      "cell_type": "markdown",
      "source": [
        "Se calcularon los promedios de las alturas en las zonas/puntos del parque con una funcion de numpy, y se imprimieron los resultados"
      ],
      "metadata": {
        "id": "Jf_005g8js1O"
      }
    },
    {
      "cell_type": "code",
      "source": [
        "# Calcular la altura máxima de las olas en cada punto del parque acuático\n",
        "altura_maxima_por_punto = [np.max(alturas[datos_olas[:, 0] == punto]) for punto in puntos_unicos]\n",
        "for i, punto in enumerate(puntos_unicos):\n",
        "        print(\"Zona\" ,punto,\":\" ,altura_maxima_por_punto[i],\"\\n\") # se imprimen los resultados\n",
        "\n"
      ],
      "metadata": {
        "colab": {
          "base_uri": "https://localhost:8080/"
        },
        "id": "I9-Hu9xY6AqA",
        "outputId": "e696ff87-230a-41b6-bc93-ed045680242d"
      },
      "execution_count": 19,
      "outputs": [
        {
          "output_type": "stream",
          "name": "stdout",
          "text": [
            "Zona A : 9.341728453268308 \n",
            "\n",
            "Zona B : 8.04451407658844 \n",
            "\n",
            "Zona C : 9.977293486806257 \n",
            "\n",
            "Zona D : 9.874574551710007 \n",
            "\n",
            "Zona E : 9.412948963979074 \n",
            "\n"
          ]
        }
      ]
    },
    {
      "cell_type": "markdown",
      "source": [
        "Se calcularon los alturas máximas de las  zonas/puntos del parque con una funcion de numpy, y se imprimieron los resultados\n"
      ],
      "metadata": {
        "id": "i4abgeS1j4DB"
      }
    },
    {
      "cell_type": "code",
      "source": [
        "# d) Calcular la desviación estándar de la altura de las olas en cada punto\n",
        "desviacion_estandar_por_punto = [np.std(alturas[datos_olas[:, 0] == punto]) for punto in puntos_unicos]\n",
        "for i, punto in enumerate(puntos_unicos):\n",
        "        print(\"Zona\",punto,\":\" ,desviacion_estandar_por_punto[i],\"\\n\") # se imprimen los resultados\n"
      ],
      "metadata": {
        "colab": {
          "base_uri": "https://localhost:8080/"
        },
        "id": "KmtxPzwyfFet",
        "outputId": "69788939-fe24-44a6-984f-b08b7ee0a53e"
      },
      "execution_count": 21,
      "outputs": [
        {
          "output_type": "stream",
          "name": "stdout",
          "text": [
            "Zona A : 2.9376983956128777 \n",
            "\n",
            "Zona B : 2.0062331146453967 \n",
            "\n",
            "Zona C : 3.19495479704041 \n",
            "\n",
            "Zona D : 3.498748989630639 \n",
            "\n",
            "Zona E : 2.847933177504778 \n",
            "\n"
          ]
        }
      ]
    },
    {
      "cell_type": "markdown",
      "source": [
        "Se calcularon las desviaciones estandar por  zonas/puntos del parque con una funcion de numpy, y se imprimieron los resultados"
      ],
      "metadata": {
        "id": "UlcX8O3ilFUJ"
      }
    },
    {
      "cell_type": "code",
      "source": [
        "# e) Encontrar el punto con la altura promedio más alta\n",
        "indice_punto_max_promedio = np.argmax(altura_promedio_por_punto)\n",
        "altura_promedio_maxima = altura_promedio_por_punto[indice_punto_max_promedio]\n",
        "punto_max_promedio = puntos_unicos[indice_punto_max_promedio]\n",
        "\n"
      ],
      "metadata": {
        "id": "1udjxpJqfk6X"
      },
      "execution_count": 12,
      "outputs": []
    },
    {
      "cell_type": "markdown",
      "source": [
        "Se encontro la altura promedio máxima de ola en el parque y se indico en que zona/punto estaba"
      ],
      "metadata": {
        "id": "Npn5-rExlRUa"
      }
    },
    {
      "cell_type": "code",
      "source": [
        "# f) Encontrar el día con la altura máxima de olas en todo el parque acuático\n",
        "indice_dia_max_altura = np.argmax(alturas)\n",
        "altura_maxima_total = alturas[indice_dia_max_altura]\n"
      ],
      "metadata": {
        "id": "U4E1B7xOg5Xk"
      },
      "execution_count": 13,
      "outputs": []
    },
    {
      "cell_type": "markdown",
      "source": [
        "Se encontro la altura promedio máxima de ola en el parque y se indico en que fecha sucedio"
      ],
      "metadata": {
        "id": "CfICMR4ilbwZ"
      }
    },
    {
      "cell_type": "code",
      "source": [
        "# g) Guardar los resultados en un archivo de texto\n",
        "with open('resultados_olas.txt', 'w') as arch:\n",
        "    arch.write(f\"Punto con altura promedio más alta: {punto_max_promedio}\\n\")\n",
        "    arch.write(f\"Altura promedio más alta: {altura_promedio_maxima:}\\n\")\n",
        "    arch.write(f\"Día con altura máxima: {datos_olas[indice_dia_max_altura, 1]} ({altura_maxima_total:.2f})\\n\")\n",
        "    arch.write(\"\\nAltura promedio por punto:\\n\")\n",
        "    for i, punto in enumerate(puntos_unicos):\n",
        "        arch.write(f\"Zona {punto}: {altura_promedio_por_punto[i]}\\n\")\n",
        "    arch.write(\"\\nAltura máxima por punto:\\n\")\n",
        "    for i, punto in enumerate(puntos_unicos):\n",
        "        arch.write(f\"Zona {punto}: {altura_maxima_por_punto[i]}\\n\")\n",
        "    arch.write(\"\\nDesviación estándar por punto:\\n\")\n",
        "    for i, punto in enumerate(puntos_unicos):\n",
        "        arch.write(f\"Zona {punto}: {desviacion_estandar_por_punto[i]}\\n\")\n"
      ],
      "metadata": {
        "id": "feeAK95liGP5"
      },
      "execution_count": 25,
      "outputs": []
    },
    {
      "cell_type": "markdown",
      "source": [
        "Se creo el archivo de resultados_olas.txt y se le escribio en el los resultados que se obtuvieron"
      ],
      "metadata": {
        "id": "vN667jNRli9Q"
      }
    }
  ]
}