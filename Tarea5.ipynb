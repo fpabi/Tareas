{
  "nbformat": 4,
  "nbformat_minor": 0,
  "metadata": {
    "colab": {
      "provenance": [],
      "authorship_tag": "ABX9TyOtEy8wXY9p2NN/f2nVel2+",
      "include_colab_link": true
    },
    "kernelspec": {
      "name": "python3",
      "display_name": "Python 3"
    },
    "language_info": {
      "name": "python"
    }
  },
  "cells": [
    {
      "cell_type": "markdown",
      "metadata": {
        "id": "view-in-github",
        "colab_type": "text"
      },
      "source": [
        "<a href=\"https://colab.research.google.com/github/fpabi/Tareas/blob/main/Tarea5.ipynb\" target=\"_parent\"><img src=\"https://colab.research.google.com/assets/colab-badge.svg\" alt=\"Open In Colab\"/></a>"
      ]
    },
    {
      "cell_type": "markdown",
      "source": [
        "#TAREA 5\n",
        "Fabiana Pavón Arce\n",
        "\n",
        "Prof.Lazaro Bustio\n",
        "\n",
        "###Objetivo\n",
        "Eres el gerente de un parque acuático y deseas analizar la altura de las olas en diferentes\n",
        "puntos del parque. Para ello, los estudiantes deben utilizar la biblioteca NumPy para realizar\n",
        "los siguientes cálculos:\n",
        "\n",
        "a)promedio por punto\n",
        "\n",
        "b)altura maxima por punto\n",
        "\n",
        "c)desviacion estandar por punto\n",
        "\n",
        "d)punto con la altura promedio mas alta\n",
        "\n",
        "e)dia con la altura mas alta\n",
        "\n"
      ],
      "metadata": {
        "id": "KxJ4izKn4rqv"
      }
    },
    {
      "cell_type": "code",
      "execution_count": 1,
      "metadata": {
        "id": "RIE_MPQK2-to"
      },
      "outputs": [],
      "source": [
        "import numpy as np\n",
        "\n",
        "#Cargamos los datos desde el archivo con formato CSV\n",
        "datos_olas = np.genfromtxt('datos_olas.csv', delimiter=',', skip_header=1, dtype=str)\n"
      ]
    },
    {
      "cell_type": "code",
      "source": [
        "# Extraer las alturas como números (la tercera columna)\n",
        "alturas = datos_olas[:, 2].astype(float)\n",
        "\n",
        "# Calcular la altura promedio de las olas en cada punto del parque acuático\n",
        "puntos_unicos = np.unique(datos_olas[:, 0])# se encuentran las letras de las zonas\n",
        "altura_promedio_por_punto = [np.mean(alturas[datos_olas[:, 0] == punto]) for punto in puntos_unicos]#se encuentra el promedio por punto de las zonas que ya habiamos encontrado\n",
        "for i, punto in enumerate(puntos_unicos):\n",
        "        print(f\"Zona {punto}: {altura_promedio_por_punto[i]}\\n\") # se imprimen los resultados\n",
        "\n"
      ],
      "metadata": {
        "colab": {
          "base_uri": "https://localhost:8080/"
        },
        "id": "vd5puc2h3Faz",
        "outputId": "3f648a1e-a58b-47da-cb8c-05d08c66f5d1"
      },
      "execution_count": 5,
      "outputs": [
        {
          "output_type": "stream",
          "name": "stdout",
          "text": [
            "Zona A: 4.634465075380814\n",
            "\n",
            "Zona B: 4.719972456219645\n",
            "\n",
            "Zona C: 4.882383317665143\n",
            "\n",
            "Zona D: 5.304550573915486\n",
            "\n",
            "Zona E: 6.088485385217427\n",
            "\n"
          ]
        }
      ]
    },
    {
      "cell_type": "code",
      "source": [
        "# Calcular la altura máxima de las olas en cada punto del parque acuático\n",
        "altura_maxima_por_punto = [np.max(alturas[datos_olas[:, 0] == punto]) for punto in puntos_unicos]\n",
        "for i, punto in enumerate(puntos_unicos):\n",
        "        print(f\"Zona {punto}: {altura_maxima_por_punto[i]}\\n\") # se imprimen los resultados\n",
        "\n"
      ],
      "metadata": {
        "colab": {
          "base_uri": "https://localhost:8080/"
        },
        "id": "I9-Hu9xY6AqA",
        "outputId": "d0e3c8c6-e76b-4402-b844-8e7eecbc478c"
      },
      "execution_count": 4,
      "outputs": [
        {
          "output_type": "stream",
          "name": "stdout",
          "text": [
            "Zona A: 9.341728453268308\n",
            "\n",
            "Zona B: 8.04451407658844\n",
            "\n",
            "Zona C: 9.977293486806257\n",
            "\n",
            "Zona D: 9.874574551710007\n",
            "\n",
            "Zona E: 9.412948963979074\n",
            "\n"
          ]
        }
      ]
    },
    {
      "cell_type": "code",
      "source": [
        "# d) Calcular la desviación estándar de la altura de las olas en cada punto\n",
        "desviacion_estandar_por_punto = [np.std(alturas[datos_olas[:, 0] == punto]) for punto in puntos_unicos]\n",
        "for i, punto in enumerate(puntos_unicos):\n",
        "        print(f\"Zona {punto}: {desviacion_estandar_por_punto[i]}\\n\") # se imprimen los resultados\n"
      ],
      "metadata": {
        "colab": {
          "base_uri": "https://localhost:8080/"
        },
        "id": "KmtxPzwyfFet",
        "outputId": "5a519cb9-9c6d-4f75-995e-b00013f41e8c"
      },
      "execution_count": 11,
      "outputs": [
        {
          "output_type": "stream",
          "name": "stdout",
          "text": [
            "Zona A: 2.9376983956128777\n",
            "\n",
            "Zona B: 2.0062331146453967\n",
            "\n",
            "Zona C: 3.19495479704041\n",
            "\n",
            "Zona D: 3.498748989630639\n",
            "\n",
            "Zona E: 2.847933177504778\n",
            "\n"
          ]
        }
      ]
    },
    {
      "cell_type": "code",
      "source": [],
      "metadata": {
        "id": "1udjxpJqfk6X"
      },
      "execution_count": null,
      "outputs": []
    }
  ]
}