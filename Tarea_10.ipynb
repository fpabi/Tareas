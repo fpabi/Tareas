{
  "nbformat": 4,
  "nbformat_minor": 0,
  "metadata": {
    "colab": {
      "provenance": [],
      "authorship_tag": "ABX9TyPdFJ4WP/LdiAQ+v+bqZ7BI",
      "include_colab_link": true
    },
    "kernelspec": {
      "name": "python3",
      "display_name": "Python 3"
    },
    "language_info": {
      "name": "python"
    }
  },
  "cells": [
    {
      "cell_type": "markdown",
      "metadata": {
        "id": "view-in-github",
        "colab_type": "text"
      },
      "source": [
        "<a href=\"https://colab.research.google.com/github/fpabi/Tareas/blob/main/Tarea_10.ipynb\" target=\"_parent\"><img src=\"https://colab.research.google.com/assets/colab-badge.svg\" alt=\"Open In Colab\"/></a>"
      ]
    },
    {
      "cell_type": "code",
      "source": [
        "pip install seaborn"
      ],
      "metadata": {
        "colab": {
          "base_uri": "https://localhost:8080/"
        },
        "id": "HH9psCVVG06k",
        "outputId": "ed31f0df-7639-4a12-8c0d-015460ef0108"
      },
      "execution_count": 1,
      "outputs": [
        {
          "output_type": "stream",
          "name": "stdout",
          "text": [
            "Requirement already satisfied: seaborn in /usr/local/lib/python3.10/dist-packages (0.12.2)\n",
            "Requirement already satisfied: numpy!=1.24.0,>=1.17 in /usr/local/lib/python3.10/dist-packages (from seaborn) (1.23.5)\n",
            "Requirement already satisfied: pandas>=0.25 in /usr/local/lib/python3.10/dist-packages (from seaborn) (1.5.3)\n",
            "Requirement already satisfied: matplotlib!=3.6.1,>=3.1 in /usr/local/lib/python3.10/dist-packages (from seaborn) (3.7.1)\n",
            "Requirement already satisfied: contourpy>=1.0.1 in /usr/local/lib/python3.10/dist-packages (from matplotlib!=3.6.1,>=3.1->seaborn) (1.1.1)\n",
            "Requirement already satisfied: cycler>=0.10 in /usr/local/lib/python3.10/dist-packages (from matplotlib!=3.6.1,>=3.1->seaborn) (0.12.0)\n",
            "Requirement already satisfied: fonttools>=4.22.0 in /usr/local/lib/python3.10/dist-packages (from matplotlib!=3.6.1,>=3.1->seaborn) (4.43.0)\n",
            "Requirement already satisfied: kiwisolver>=1.0.1 in /usr/local/lib/python3.10/dist-packages (from matplotlib!=3.6.1,>=3.1->seaborn) (1.4.5)\n",
            "Requirement already satisfied: packaging>=20.0 in /usr/local/lib/python3.10/dist-packages (from matplotlib!=3.6.1,>=3.1->seaborn) (23.2)\n",
            "Requirement already satisfied: pillow>=6.2.0 in /usr/local/lib/python3.10/dist-packages (from matplotlib!=3.6.1,>=3.1->seaborn) (9.4.0)\n",
            "Requirement already satisfied: pyparsing>=2.3.1 in /usr/local/lib/python3.10/dist-packages (from matplotlib!=3.6.1,>=3.1->seaborn) (3.1.1)\n",
            "Requirement already satisfied: python-dateutil>=2.7 in /usr/local/lib/python3.10/dist-packages (from matplotlib!=3.6.1,>=3.1->seaborn) (2.8.2)\n",
            "Requirement already satisfied: pytz>=2020.1 in /usr/local/lib/python3.10/dist-packages (from pandas>=0.25->seaborn) (2023.3.post1)\n",
            "Requirement already satisfied: six>=1.5 in /usr/local/lib/python3.10/dist-packages (from python-dateutil>=2.7->matplotlib!=3.6.1,>=3.1->seaborn) (1.16.0)\n"
          ]
        }
      ]
    },
    {
      "cell_type": "code",
      "execution_count": 2,
      "metadata": {
        "id": "qWeY7cEp-qTj"
      },
      "outputs": [],
      "source": [
        "import pandas as pd\n",
        "import seaborn as sns\n",
        "import matplotlib.pyplot as plt"
      ]
    },
    {
      "cell_type": "markdown",
      "source": [
        "1 Cargar los datos desde el rchivo csv"
      ],
      "metadata": {
        "id": "8gEBAyCQCI_U"
      }
    },
    {
      "cell_type": "code",
      "source": [
        "csv_path =\"/content/datos_ventas.csv\"\n",
        "ventas = pd.read_csv(csv_path)"
      ],
      "metadata": {
        "id": "FjZeRlZG_0MX"
      },
      "execution_count": 3,
      "outputs": []
    },
    {
      "cell_type": "markdown",
      "source": [
        "2 Se calculo el resumen estadistico de ventas"
      ],
      "metadata": {
        "id": "BvQ9BRQsCMBG"
      }
    },
    {
      "cell_type": "code",
      "source": [
        "resumen_estadistico = ventas.describe()"
      ],
      "metadata": {
        "id": "fURQmhgq_8WD"
      },
      "execution_count": 4,
      "outputs": []
    },
    {
      "cell_type": "code",
      "source": [
        "print(resumen_estadistico)"
      ],
      "metadata": {
        "colab": {
          "base_uri": "https://localhost:8080/"
        },
        "id": "8UslpCPOBUrP",
        "outputId": "2f3b09be-7e82-4f47-eddc-9a885f08d557"
      },
      "execution_count": 5,
      "outputs": [
        {
          "output_type": "stream",
          "name": "stdout",
          "text": [
            "         Cantidad      Precio\n",
            "count  100.000000  100.000000\n",
            "mean     9.570000   28.888100\n",
            "std      5.876258   11.189085\n",
            "min      1.000000   10.660000\n",
            "25%      5.000000   19.747500\n",
            "50%      9.000000   27.250000\n",
            "75%     15.000000   36.842500\n",
            "max     20.000000   49.790000\n"
          ]
        }
      ]
    },
    {
      "cell_type": "markdown",
      "source": [
        "3 Analisis por categoria"
      ],
      "metadata": {
        "id": "yTKmFo0XCPXU"
      }
    },
    {
      "cell_type": "markdown",
      "source": [
        "a)cantidad total de productos vendidos"
      ],
      "metadata": {
        "id": "8RIjOHaqzOTg"
      }
    },
    {
      "cell_type": "code",
      "source": [
        "total_ventas_por_categoria = ventas.pivot_table(index='Categoria', values='Cantidad', aggfunc='sum')\n",
        "print(total_ventas_por_categoria)"
      ],
      "metadata": {
        "colab": {
          "base_uri": "https://localhost:8080/"
        },
        "id": "ZUAebymYBX32",
        "outputId": "becd7772-773e-4327-f903-86d9f1315b81"
      },
      "execution_count": 6,
      "outputs": [
        {
          "output_type": "stream",
          "name": "stdout",
          "text": [
            "             Cantidad\n",
            "Categoria            \n",
            "Categoria 1       462\n",
            "Categoria 2       495\n"
          ]
        }
      ]
    },
    {
      "cell_type": "markdown",
      "source": [
        "b) precio promedio de venta"
      ],
      "metadata": {
        "id": "6zYO8SS3z0kY"
      }
    },
    {
      "cell_type": "code",
      "source": [
        "promedio_precios_por_categoria = ventas.groupby(\"Categoria\")[\"Precio\"].mean().reset_index()\n",
        "print(promedio_precios_por_categoria)"
      ],
      "metadata": {
        "colab": {
          "base_uri": "https://localhost:8080/"
        },
        "id": "86ukrFtTCHPk",
        "outputId": "9b4bb412-3e49-493f-a042-4208bebd1770"
      },
      "execution_count": 7,
      "outputs": [
        {
          "output_type": "stream",
          "name": "stdout",
          "text": [
            "     Categoria     Precio\n",
            "0  Categoria 1  28.524783\n",
            "1  Categoria 2  29.197593\n"
          ]
        }
      ]
    },
    {
      "cell_type": "markdown",
      "source": [
        "c) cantidad maxima y minima de productos vendidos"
      ],
      "metadata": {
        "id": "F70nLMyUz5MQ"
      }
    },
    {
      "cell_type": "code",
      "source": [
        "minimo_cantidad_por_categoria = ventas.groupby(\"Categoria\")[\"Cantidad\"].min().reset_index()\n",
        "print(minimo_cantidad_por_categoria)"
      ],
      "metadata": {
        "colab": {
          "base_uri": "https://localhost:8080/"
        },
        "id": "pdKm_lFQCH1K",
        "outputId": "8ee82801-db61-4d15-eeb0-7f7d360b686e"
      },
      "execution_count": 9,
      "outputs": [
        {
          "output_type": "stream",
          "name": "stdout",
          "text": [
            "     Categoria  Cantidad\n",
            "0  Categoria 1         1\n",
            "1  Categoria 2         1\n"
          ]
        }
      ]
    },
    {
      "cell_type": "code",
      "source": [
        "maximo_cantidad_por_categoria = ventas.groupby(\"Categoria\")[\"Cantidad\"].max().reset_index()\n",
        "print(maximo_cantidad_por_categoria)"
      ],
      "metadata": {
        "colab": {
          "base_uri": "https://localhost:8080/"
        },
        "id": "5yPjcPyuDoJ6",
        "outputId": "0d11a2b6-413b-4796-d808-53e3b5a67915"
      },
      "execution_count": 10,
      "outputs": [
        {
          "output_type": "stream",
          "name": "stdout",
          "text": [
            "     Categoria  Cantidad\n",
            "0  Categoria 1        20\n",
            "1  Categoria 2        20\n"
          ]
        }
      ]
    },
    {
      "cell_type": "markdown",
      "source": [
        "d) rango intercuartil(IQR)"
      ],
      "metadata": {
        "id": "pcOwlmeF0FXs"
      }
    },
    {
      "cell_type": "code",
      "source": [
        "q_75 = ventas.groupby(\"Categoria\")[\"Cantidad\"].quantile(0.75).reset_index()\n",
        "print(q_75)"
      ],
      "metadata": {
        "colab": {
          "base_uri": "https://localhost:8080/"
        },
        "id": "g4H91yRWDyN0",
        "outputId": "5df006d1-be44-4afa-dac6-d3b48bb803cf"
      },
      "execution_count": 12,
      "outputs": [
        {
          "output_type": "stream",
          "name": "stdout",
          "text": [
            "     Categoria  Cantidad\n",
            "0  Categoria 1      15.0\n",
            "1  Categoria 2      15.0\n"
          ]
        }
      ]
    },
    {
      "cell_type": "code",
      "source": [
        "q_25 = ventas.groupby(\"Categoria\")[\"Cantidad\"].quantile(0.25).reset_index()\n",
        "print(q_25)"
      ],
      "metadata": {
        "colab": {
          "base_uri": "https://localhost:8080/"
        },
        "id": "CPA-vJQZEqGQ",
        "outputId": "16042e2d-57fc-496d-a7ba-c5e3463b9064"
      },
      "execution_count": 14,
      "outputs": [
        {
          "output_type": "stream",
          "name": "stdout",
          "text": [
            "     Categoria  Cantidad\n",
            "0  Categoria 1      5.25\n",
            "1  Categoria 2      4.00\n"
          ]
        }
      ]
    },
    {
      "cell_type": "code",
      "source": [
        " # Combina los DataFrames q_75 y q_25 usando la columna 'Categoria' como clave\n",
        "iqr_df = pd.merge(q_75, q_25, on=\"Categoria\", suffixes=(\"_q75\", \"_q25\"))\n",
        "\n",
        "# Calcula el IQR restando Q1 de Q3 para cada categoría\n",
        "iqr_df[\"IQR\"] = iqr_df[\"Cantidad_q75\"] - iqr_df[\"Cantidad_q25\"]\n",
        "\n",
        "# Imprime el DataFrame resultante\n",
        "print(iqr_df)"
      ],
      "metadata": {
        "colab": {
          "base_uri": "https://localhost:8080/"
        },
        "id": "wxPh40EDE2lO",
        "outputId": "937c9e6c-80b1-4a37-edff-7a97ba38336f"
      },
      "execution_count": 23,
      "outputs": [
        {
          "output_type": "stream",
          "name": "stdout",
          "text": [
            "     Categoria  Cantidad_q75  Cantidad_q25    IQR\n",
            "0  Categoria 1          15.0          5.25   9.75\n",
            "1  Categoria 2          15.0          4.00  11.00\n"
          ]
        }
      ]
    },
    {
      "cell_type": "code",
      "source": [
        ""
      ],
      "metadata": {
        "id": "ZMZOYdbuHD2S"
      },
      "execution_count": null,
      "outputs": []
    }
  ]
}