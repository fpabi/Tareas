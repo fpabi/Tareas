{
  "nbformat": 4,
  "nbformat_minor": 0,
  "metadata": {
    "colab": {
      "provenance": [],
      "authorship_tag": "ABX9TyOeQ3RyvdxeKM8vcqG6v7xC",
      "include_colab_link": true
    },
    "kernelspec": {
      "name": "python3",
      "display_name": "Python 3"
    },
    "language_info": {
      "name": "python"
    }
  },
  "cells": [
    {
      "cell_type": "markdown",
      "metadata": {
        "id": "view-in-github",
        "colab_type": "text"
      },
      "source": [
        "<a href=\"https://colab.research.google.com/github/fpabi/Tareas/blob/main/Tarea_3.ipynb\" target=\"_parent\"><img src=\"https://colab.research.google.com/assets/colab-badge.svg\" alt=\"Open In Colab\"/></a>"
      ]
    },
    {
      "cell_type": "code",
      "execution_count": null,
      "metadata": {
        "colab": {
          "base_uri": "https://localhost:8080/"
        },
        "id": "VbspSmoZ2ehU",
        "outputId": "4180791d-28a7-4fdb-90ea-fd5bc1dc6c94"
      },
      "outputs": [
        {
          "output_type": "stream",
          "name": "stdout",
          "text": [
            "Cuantos numeros vas a ingresar:\n",
            "5\n",
            "Dame el numero 1 promediar:18\n",
            "Dame el numero 2 promediar:45\n",
            "Dame el numero 3 promediar:61\n",
            "Dame el numero 4 promediar:12\n",
            "Dame el numero 5 promediar:90\n",
            "El promedio de los 5 números es 45.2\n",
            "El menor número es: 12\n",
            "El mayor número es: 90\n"
          ]
        }
      ],
      "source": [
        "\n",
        "suma = 0\n",
        "mayor=0\n",
        "menor=0\n",
        "numeros=[]\n",
        "\n",
        "num = input(\"Cuantos numeros vas a ingresar:\\n\")\n",
        "num = int(num)\n",
        "\n",
        "for x in range(0,num,1):\n",
        "  n=input(\"Dame el numero \"+str(x+1)+\" promediar:\")\n",
        "  n=int(n)\n",
        "  numeros.append(n)\n",
        "  suma = suma + int(n)\n",
        "\n",
        "menor = min(numeros)\n",
        "mayor = max(numeros)\n",
        "prom = suma / num\n",
        "\n",
        "print(\"El promedio de los\", num, \"números es\", prom)\n",
        "print(\"El menor número es:\", menor)\n",
        "print(\"El mayor número es:\", mayor)\n"
      ]
    },
    {
      "cell_type": "code",
      "source": [],
      "metadata": {
        "id": "CkP5iyWP2f5P"
      },
      "execution_count": null,
      "outputs": []
    }
  ]
}