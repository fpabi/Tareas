{
  "nbformat": 4,
  "nbformat_minor": 0,
  "metadata": {
    "colab": {
      "provenance": [],
      "authorship_tag": "ABX9TyMS/bmmLNip92aB2b+tvCri",
      "include_colab_link": true
    },
    "kernelspec": {
      "name": "python3",
      "display_name": "Python 3"
    },
    "language_info": {
      "name": "python"
    }
  },
  "cells": [
    {
      "cell_type": "markdown",
      "metadata": {
        "id": "view-in-github",
        "colab_type": "text"
      },
      "source": [
        "<a href=\"https://colab.research.google.com/github/fpabi/Tareas/blob/main/Tarea_3.ipynb\" target=\"_parent\"><img src=\"https://colab.research.google.com/assets/colab-badge.svg\" alt=\"Open In Colab\"/></a>"
      ]
    },
    {
      "cell_type": "code",
      "execution_count": 1,
      "metadata": {
        "colab": {
          "base_uri": "https://localhost:8080/"
        },
        "id": "VbspSmoZ2ehU",
        "outputId": "43480694-64c0-45d7-9507-126fc6e15152"
      },
      "outputs": [
        {
          "output_type": "stream",
          "name": "stdout",
          "text": [
            "Cuantos numeros vas a ingresar:\n",
            "5\n",
            "Dame el numero 1 a promediar:18\n",
            "Dame el numero 2 a promediar:94\n",
            "Dame el numero 3 a promediar:36\n",
            "Dame el numero 4 a promediar:12\n",
            "Dame el numero 5 a promediar:106\n",
            "El promedio de los 5 números es 53.2\n",
            "El menor número es: 12\n",
            "El mayor número es: 106\n"
          ]
        }
      ],
      "source": [
        "\n",
        "# Inicializar variables\n",
        "suma = 0     # Almacenará la suma de los números ingresados.\n",
        "mayor = 0    # Almacenará el número mayor ingresado.\n",
        "menor = 0    # Almacenará el número menor ingresado.\n",
        "numeros = [] # Almacenará la lista de números ingresados por el usuario.\n",
        "\n",
        "# Solicitar al usuario cuántos números va a ingresar.\n",
        "num = input(\"Cuantos numeros vas a ingresar:\\n\")\n",
        "num = int(num)  # Convertir la entrada a un valor entero.\n",
        "\n",
        "# Ciclo para ingresar los números.\n",
        "for x in range(0, num, 1):\n",
        "    n = input(\"Dame el numero \" + str(x + 1) + \" a promediar:\")\n",
        "    n = int(n)  # Convertir la entrada a un valor entero.\n",
        "    numeros.append(n)  # Agregar el número a la lista 'numeros'.\n",
        "    suma = suma + n  # Sumar el número al total acumulado.\n",
        "\n",
        "# Encontrar el número menor y el número mayor en la lista de números.\n",
        "menor = min(numeros)\n",
        "mayor = max(numeros)\n",
        "\n",
        "# Calcular el promedio de los números ingresados.\n",
        "prom = suma / num\n",
        "\n",
        "# Mostrar los resultados al usuario.\n",
        "print(\"El promedio de los\", num, \"números es\", prom)\n",
        "print(\"El menor número es:\", menor)\n",
        "print(\"El mayor número es:\", mayor)\n",
        "\n"
      ]
    },
    {
      "cell_type": "markdown",
      "source": [
        "Este código solicita al usuario ingresar una cantidad de números, luego recopila esos números, calcula el promedio, y encuentra el número mayor y el número menor de la lista ingresada. Finalmente, muestra los resultados al usuario."
      ],
      "metadata": {
        "id": "kaZ4x5Cb6OxF"
      }
    }
  ]
}