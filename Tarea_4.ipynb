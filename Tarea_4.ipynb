{
  "nbformat": 4,
  "nbformat_minor": 0,
  "metadata": {
    "colab": {
      "provenance": [],
      "authorship_tag": "ABX9TyOkTrw5TE5ABEJYrCDcDwdd",
      "include_colab_link": true
    },
    "kernelspec": {
      "name": "python3",
      "display_name": "Python 3"
    },
    "language_info": {
      "name": "python"
    }
  },
  "cells": [
    {
      "cell_type": "markdown",
      "metadata": {
        "id": "view-in-github",
        "colab_type": "text"
      },
      "source": [
        "<a href=\"https://colab.research.google.com/github/fpabi/Tareas/blob/main/Tarea_4.ipynb\" target=\"_parent\"><img src=\"https://colab.research.google.com/assets/colab-badge.svg\" alt=\"Open In Colab\"/></a>"
      ]
    },
    {
      "cell_type": "code",
      "execution_count": 1,
      "metadata": {
        "id": "CkV74MFTadST"
      },
      "outputs": [],
      "source": [
        "inventario=dict()\n",
        "inventario['leche'] = 21\n",
        "inventario['huevos'] = 50\n",
        "inventario['gelatina'] =35\n",
        "inventario['cereal'] = 30\n",
        "inventario['mayonesa'] =23\n",
        "inventario['catsup'] =20\n",
        "inventario['galletas'] = 65\n",
        "inventario['jamon'] = 30\n",
        "inventario['queso'] = 40\n",
        "inventario['pan'] = 40\n",
        "inventario['tortillas'] =73\n",
        "inventario['salsa'] = 32\n"
      ]
    },
    {
      "cell_type": "code",
      "source": [],
      "metadata": {
        "id": "qYX1UlqOj70f"
      },
      "execution_count": null,
      "outputs": []
    }
  ]
}