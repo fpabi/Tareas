{
  "nbformat": 4,
  "nbformat_minor": 0,
  "metadata": {
    "colab": {
      "provenance": [],
      "authorship_tag": "ABX9TyPzEJpk4jK4umSq/F606Run",
      "include_colab_link": true
    },
    "kernelspec": {
      "name": "python3",
      "display_name": "Python 3"
    },
    "language_info": {
      "name": "python"
    }
  },
  "cells": [
    {
      "cell_type": "markdown",
      "metadata": {
        "id": "view-in-github",
        "colab_type": "text"
      },
      "source": [
        "<a href=\"https://colab.research.google.com/github/fpabi/Tareas/blob/main/Tarea_4.ipynb\" target=\"_parent\"><img src=\"https://colab.research.google.com/assets/colab-badge.svg\" alt=\"Open In Colab\"/></a>"
      ]
    },
    {
      "cell_type": "code",
      "execution_count": 2,
      "metadata": {
        "id": "CkV74MFTadST"
      },
      "outputs": [],
      "source": [
        "inventario=dict()\n",
        "inventario['leche'] = 21\n",
        "inventario['huevos'] = 50\n",
        "inventario['gelatina'] =35\n",
        "inventario['cereal'] = 30\n",
        "inventario['mayonesa'] =23\n",
        "inventario['catsup'] =20\n",
        "inventario['galletas'] = 65\n",
        "inventario['jamon'] = 30\n",
        "inventario['queso'] = 40\n",
        "inventario['pan'] = 40\n",
        "inventario['tortillas'] =73\n",
        "inventario['salsa'] = 32\n"
      ]
    },
    {
      "cell_type": "code",
      "source": [
        "def agregar_producto(producto,cantidad):\n",
        "  inventario[producto] = cantidad\n",
        "  print(\"Se ha agregado\", cantidad, \"unidades de\",producto, \"al inventario.\\n\")\n"
      ],
      "metadata": {
        "id": "qYX1UlqOj70f"
      },
      "execution_count": 33,
      "outputs": []
    },
    {
      "cell_type": "code",
      "source": [
        "def buscar_producto(producto):\n",
        "    if producto in inventario:\n",
        "        print(\"El producto\", producto, \"está en el inventario.\\nCantidad disponible:\", inventario[producto],\"\\n\")\n",
        "    else:\n",
        "        print(\"El producto\",producto,\"no se encontró en el inventario.\\n\")\n"
      ],
      "metadata": {
        "id": "o1r-fefEwwsa"
      },
      "execution_count": 32,
      "outputs": []
    },
    {
      "cell_type": "code",
      "source": [
        "def actualizar_cantidad(producto,ncantidad):\n",
        "  if producto in inventario:\n",
        "    inventario[producto] = ncantidad\n",
        "    print(\"Se ha actualizado la cantidad de\",producto,\" a \",ncantidad,\" en el inventario.\\n\")\n",
        "  else:\n",
        "    print(\"El producto\",producto,\"no se encontró en el inventario.\\n\")"
      ],
      "metadata": {
        "id": "By_Mbh1--YYJ"
      },
      "execution_count": 26,
      "outputs": []
    },
    {
      "cell_type": "code",
      "source": [
        "def eliminar_producto(producto):\n",
        "    if producto in inventario:\n",
        "        del inventario[producto]\n",
        "        print(\"El producto\",producto,\" ha sido eliminado del inventario.\\n\")\n",
        "    else:\n",
        "        print(\"El producto\",producto,\" no se encontró en el inventario.\\n\")\n"
      ],
      "metadata": {
        "id": "B4D7HnUM__Si"
      },
      "execution_count": 34,
      "outputs": []
    },
    {
      "cell_type": "code",
      "source": [
        "print(\"\\tT I E N D A \\n\")\n",
        "print(\"Teclea la opción de operación que desees realizar:\\n\")\n",
        "print(\"a -> Agregar producto al inventario\")\n",
        "print(\"b -> Buscar producto en el inventario\")\n",
        "print(\"c -> Actualizar cantidad de productos en el inventario\")\n",
        "print(\"d -> Eliminar producto del inventario\")\n",
        "print(\"s -> Salir del programa\\n\")\n",
        "\n",
        "while True:\n",
        "    opc = input(\"Dame tu opción: \")\n",
        "    print(\"\\n\")\n",
        "\n",
        "    if opc.lower() == \"s\":\n",
        "        print(\"Hasta luego!\")\n",
        "        break\n",
        "    elif opc.lower() == \"a\":\n",
        "        print(\"\\tA G R E G A R   P R O D U C T O\\n\")\n",
        "        producto = input(\"Ingresa nombre del nuevo producto:\")\n",
        "        cantidad = int(input(\"Ingresa la cantidad:\"))\n",
        "        agregar_producto(producto, cantidad)\n",
        "    elif opc.lower() == \"b\":\n",
        "        print(\"\\tB U S C A R   P R O D U C T O\\n\")\n",
        "        producto = input(\"Ingresa nombre del producto que quieres buscar:\")\n",
        "        buscar_producto(producto)\n",
        "    elif opc.lower() == \"c\":\n",
        "        print(\"\\tA C T U A L I Z A R   C A N T I D A D\\n\")\n",
        "        producto = input(\"Ingresa nombre del producto que quieres actualizar su cantidad:\")\n",
        "        ncantidad = int(input(\"Ingresa la nueva cantidad :\"))\n",
        "        actualizar_cantidad(producto, ncantidad)\n",
        "    elif opc.lower() == \"d\":\n",
        "        print(\"\\tE L I M I N A R   P R O D U C T O\\n\")\n",
        "        producto = input(\"Ingresa nombre del producto que quieres eliminar:\")\n",
        "        eliminar_producto(producto)\n",
        "    else:\n",
        "        print(\"\\n\\nOpción inválida. \\nPor favor, elige una opción válida.\\n\")\n"
      ],
      "metadata": {
        "colab": {
          "base_uri": "https://localhost:8080/"
        },
        "id": "mfWFIQivEooN",
        "outputId": "45e9eb87-6d9f-4811-d942-8104653bc77b"
      },
      "execution_count": 36,
      "outputs": [
        {
          "output_type": "stream",
          "name": "stdout",
          "text": [
            "\tT I E N D A \n",
            "\n",
            "Teclea la opción de operación que desees realizar:\n",
            "\n",
            "a -> Agregar producto al inventario\n",
            "b -> Buscar producto en el inventario\n",
            "c -> Actualizar cantidad de productos en el inventario\n",
            "d -> Eliminar producto del inventario\n",
            "s -> Salir del programa\n",
            "\n",
            "Dame tu opción: a\n",
            "\n",
            "\n",
            "\tA G R E G A R   P R O D U C T O\n",
            "\n",
            "Ingresa nombre del nuevo producto:shampoo\n",
            "Ingresa la cantidad:32\n",
            "Se ha agregado 32 unidades de shampoo al inventario.\n",
            "\n",
            "Dame tu opción: b\n",
            "\n",
            "\n",
            "\tB U S C A R   P R O D U C T O\n",
            "\n",
            "Ingresa nombre del producto que quieres buscar:leche\n",
            "El producto leche está en el inventario.\n",
            "Cantidad disponible: 21 \n",
            "\n",
            "Dame tu opción: c\n",
            "\n",
            "\n",
            "\tA C T U A L I Z A R   C A N T I D A D\n",
            "\n",
            "Ingresa nombre del producto que quieres actualizar su cantidad:tortillas\n",
            "Ingresa la nueva cantidad :55\n",
            "Se ha actualizado la cantidad de tortillas  a  55  en el inventario.\n",
            "\n",
            "Dame tu opción: d\n",
            "\n",
            "\n",
            "\tE L I M I N A R   P R O D U C T O\n",
            "\n",
            "Ingresa nombre del producto que quieres eliminar:agua\n",
            "El producto agua  ha sido eliminado del inventario.\n",
            "\n",
            "Dame tu opción: e\n",
            "\n",
            "\n",
            "\n",
            "\n",
            "Opción inválida. \n",
            "Por favor, elige una opción válida.\n",
            "\n",
            "Dame tu opción: s\n",
            "\n",
            "\n",
            "Hasta luego!\n"
          ]
        }
      ]
    },
    {
      "cell_type": "code",
      "source": [],
      "metadata": {
        "id": "fu8FZGEPOxwS"
      },
      "execution_count": null,
      "outputs": []
    }
  ]
}