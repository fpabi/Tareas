{
  "nbformat": 4,
  "nbformat_minor": 0,
  "metadata": {
    "colab": {
      "provenance": [],
      "authorship_tag": "ABX9TyMVxIUNPr2bhNbEYI+tFqUI",
      "include_colab_link": true
    },
    "kernelspec": {
      "name": "python3",
      "display_name": "Python 3"
    },
    "language_info": {
      "name": "python"
    }
  },
  "cells": [
    {
      "cell_type": "markdown",
      "metadata": {
        "id": "view-in-github",
        "colab_type": "text"
      },
      "source": [
        "<a href=\"https://colab.research.google.com/github/fpabi/Tareas/blob/main/Tarea_4.ipynb\" target=\"_parent\"><img src=\"https://colab.research.google.com/assets/colab-badge.svg\" alt=\"Open In Colab\"/></a>"
      ]
    },
    {
      "cell_type": "markdown",
      "source": [
        "#TAREA 4\n",
        "Fabiana Pavón Arce\n",
        "\n",
        "Prof.Lazaro Bustio\n",
        "\n",
        "###Objetivo\n",
        "Es una tienda y se quiere realizar un seguimiento de los productos en el  inventario. Para ello, se creará un programa que  permita agregar nuevos productos, buscar productos existentes, actualizar la cantidad de un producto y eliminar productos."
      ],
      "metadata": {
        "id": "EVy3WzEyQnIr"
      }
    },
    {
      "cell_type": "code",
      "execution_count": 2,
      "metadata": {
        "id": "CkV74MFTadST"
      },
      "outputs": [],
      "source": [
        "# Crear un diccionario llamado \"inventario\"\n",
        "inventario=dict()\n",
        "\n",
        "# Agregar elementos al diccionario \"inventario\"\n",
        "inventario['leche'] = 21\n",
        "inventario['huevos'] = 50\n",
        "inventario['gelatina'] =35\n",
        "inventario['cereal'] = 30\n",
        "inventario['mayonesa'] =23\n",
        "inventario['catsup'] =20\n",
        "inventario['galletas'] = 65\n",
        "inventario['jamon'] = 30\n",
        "inventario['queso'] = 40\n",
        "inventario['pan'] = 40\n",
        "inventario['tortillas'] =73\n",
        "inventario['salsa'] = 32\n"
      ]
    },
    {
      "cell_type": "markdown",
      "source": [
        "Se creó un diccionario llamado \"inventario\" y hemos agregado varios productos con sus respectivas cantidades"
      ],
      "metadata": {
        "id": "50Ge3mtcSJZp"
      }
    },
    {
      "cell_type": "code",
      "source": [
        "# Función para agregar un producto al inventario\n",
        "def agregar_producto(producto,cantidad):\n",
        "  #se agrega el producto nuevo con la cantidad al diccionario inventario\n",
        "  inventario[producto] = cantidad\n",
        "  print(\"Se ha agregado\", cantidad, \"unidades de\",producto, \"al inventario.\\n\")\n"
      ],
      "metadata": {
        "id": "qYX1UlqOj70f"
      },
      "execution_count": 33,
      "outputs": []
    },
    {
      "cell_type": "markdown",
      "source": [
        "La función agrega el producto y su cantidad al diccionario inventario, utilizando el nombre del producto como clave y la cantidad como valor.\n",
        "Luego, muestra un mensaje indicando que se ha agregado la cantidad especificada del producto al inventario."
      ],
      "metadata": {
        "id": "GZqUxAU3Ty5m"
      }
    },
    {
      "cell_type": "code",
      "source": [
        "# Función para buscar un producto en el inventario\n",
        "def buscar_producto(producto):\n",
        "    #se verifica que el producto este en el inventario\n",
        "    if producto in inventario: #si esta en el inventario, se despliega la cantidad disponible en inventario\n",
        "        print(\"El producto\", producto, \"está en el inventario.\\nCantidad disponible:\", inventario[producto],\"\\n\")\n",
        "    else: #si no esta en el inventario, se manda un mensaje de que no se encontro en el inventario\n",
        "        print(\"El producto\",producto,\"no se encontró en el inventario.\\n\")\n"
      ],
      "metadata": {
        "id": "o1r-fefEwwsa"
      },
      "execution_count": 32,
      "outputs": []
    },
    {
      "cell_type": "markdown",
      "source": [
        "La función verifica si el nombre del producto está presente en el diccionario de inventario.\n",
        "Si el producto está en el inventario, muestra un mensaje indicando su presencia y la cantidad disponible en inventario.\n",
        "Si el producto no está en el inventario, muestra un mensaje indicando que no se encontró."
      ],
      "metadata": {
        "id": "7fem6hdjT-c9"
      }
    },
    {
      "cell_type": "code",
      "source": [
        "# Función para actualizar la cantidad de un producto en el inventario\n",
        "def actualizar_cantidad(producto,ncantidad):\n",
        "   #se verifica que el producto este en el inventario\n",
        "  if producto in inventario: #si esta en el inventario, se actualiza la cantidad disponible en inventario\n",
        "    inventario[producto] = ncantidad\n",
        "    print(\"Se ha actualizado la cantidad de\",producto,\" a \",ncantidad,\" en el inventario.\\n\")\n",
        "  else: #si no esta en el inventario, se manda un mensaje de que no se encontro en el inventario\n",
        "    print(\"El producto\",producto,\"no se encontró en el inventario.\\n\")"
      ],
      "metadata": {
        "id": "By_Mbh1--YYJ"
      },
      "execution_count": 26,
      "outputs": []
    },
    {
      "cell_type": "markdown",
      "source": [
        "La función verifica si el nombre del producto está presente en el diccionario de inventario.\n",
        "Si el producto está en el inventario, actualiza su cantidad con el valor proporcionado (ncantidad).\n",
        "Si el producto no está en el inventario, muestra un mensaje indicando que no se encontró."
      ],
      "metadata": {
        "id": "j3Ow8yJoVYJa"
      }
    },
    {
      "cell_type": "code",
      "source": [
        "# Función para eliminar un producto del inventario\n",
        "def eliminar_producto(producto):\n",
        "    #se verifica que el producto este en el inventario\n",
        "    if producto in inventario:\n",
        "        del inventario[producto] #si esta en el inventario, se elimina el producto\n",
        "        print(\"El producto\",producto,\" ha sido eliminado del inventario.\\n\")\n",
        "    else:#si no esta en el inventario, se manda un mensaje de que no se encontro en el inventario\n",
        "        print(\"El producto\",producto,\" no se encontró en el inventario.\\n\")\n"
      ],
      "metadata": {
        "id": "B4D7HnUM__Si"
      },
      "execution_count": 37,
      "outputs": []
    },
    {
      "cell_type": "markdown",
      "source": [
        "La función verifica si el nombre del producto está presente en el diccionario de inventario.\n",
        "Si el producto está en el inventario, se elimina utilizando el operador del.\n",
        "Si el producto no está en el inventario, muestra un mensaje indicando que no se encontró."
      ],
      "metadata": {
        "id": "9MQUTeEHViw7"
      }
    },
    {
      "cell_type": "code",
      "source": [
        "# Imprimir el encabezado de la tienda y las opciones de operación\n",
        "print(\"\\tT I E N D A \\n\")\n",
        "print(\"Teclea la opción de operación que desees realizar:\\n\")\n",
        "print(\"a -> Agregar producto al inventario\")\n",
        "print(\"b -> Buscar producto en el inventario\")\n",
        "print(\"c -> Actualizar cantidad de productos en el inventario\")\n",
        "print(\"d -> Eliminar producto del inventario\")\n",
        "print(\"s -> Salir del programa\\n\")\n",
        "\n",
        "# Bucle principal que permite al usuario elegir opciones de operación\n",
        "while True:\n",
        "    # Solicitar una opción al usuario\n",
        "    opc = input(\"Dame tu opción: \")\n",
        "    print(\"\\n\")\n",
        "\n",
        "    # Salir del programa si se elige la opción \"s\"\n",
        "    if opc.lower() == \"s\":\n",
        "        print(\"Hasta luego!\")\n",
        "        break\n",
        "    # Agregar un nuevo producto al inventario\n",
        "    elif opc.lower() == \"a\":\n",
        "        print(\"\\tA G R E G A R   P R O D U C T O\\n\")\n",
        "        producto = input(\"Ingresa nombre del nuevo producto:\")\n",
        "        cantidad = int(input(\"Ingresa la cantidad:\"))\n",
        "        agregar_producto(producto, cantidad)\n",
        "    # Buscar un producto en el inventario\n",
        "    elif opc.lower() == \"b\":\n",
        "        print(\"\\tB U S C A R   P R O D U C T O\\n\")\n",
        "        producto = input(\"Ingresa nombre del producto que quieres buscar:\")\n",
        "        buscar_producto(producto)\n",
        "    # Actualizar la cantidad de un producto en el inventario\n",
        "    elif opc.lower() == \"c\":\n",
        "        print(\"\\tA C T U A L I Z A R   C A N T I D A D\\n\")\n",
        "        producto = input(\"Ingresa nombre del producto que quieres actualizar su cantidad:\")\n",
        "        ncantidad = int(input(\"Ingresa la nueva cantidad:\"))\n",
        "        actualizar_cantidad(producto, ncantidad)\n",
        "    # Eliminar un producto del inventario\n",
        "    elif opc.lower() == \"d\":\n",
        "        print(\"\\tE L I M I N A R   P R O D U C T O\\n\")\n",
        "        producto = input(\"Ingresa nombre del producto que quieres eliminar:\")\n",
        "        eliminar_producto(producto)\n",
        "    else:\n",
        "        print(\"\\n\\nOpción inválida. \\nPor favor, elige una opción válida.\\n\")\n"
      ],
      "metadata": {
        "colab": {
          "base_uri": "https://localhost:8080/"
        },
        "id": "mfWFIQivEooN",
        "outputId": "45e9eb87-6d9f-4811-d942-8104653bc77b"
      },
      "execution_count": 36,
      "outputs": [
        {
          "output_type": "stream",
          "name": "stdout",
          "text": [
            "\tT I E N D A \n",
            "\n",
            "Teclea la opción de operación que desees realizar:\n",
            "\n",
            "a -> Agregar producto al inventario\n",
            "b -> Buscar producto en el inventario\n",
            "c -> Actualizar cantidad de productos en el inventario\n",
            "d -> Eliminar producto del inventario\n",
            "s -> Salir del programa\n",
            "\n",
            "Dame tu opción: a\n",
            "\n",
            "\n",
            "\tA G R E G A R   P R O D U C T O\n",
            "\n",
            "Ingresa nombre del nuevo producto:shampoo\n",
            "Ingresa la cantidad:32\n",
            "Se ha agregado 32 unidades de shampoo al inventario.\n",
            "\n",
            "Dame tu opción: b\n",
            "\n",
            "\n",
            "\tB U S C A R   P R O D U C T O\n",
            "\n",
            "Ingresa nombre del producto que quieres buscar:leche\n",
            "El producto leche está en el inventario.\n",
            "Cantidad disponible: 21 \n",
            "\n",
            "Dame tu opción: c\n",
            "\n",
            "\n",
            "\tA C T U A L I Z A R   C A N T I D A D\n",
            "\n",
            "Ingresa nombre del producto que quieres actualizar su cantidad:tortillas\n",
            "Ingresa la nueva cantidad :55\n",
            "Se ha actualizado la cantidad de tortillas  a  55  en el inventario.\n",
            "\n",
            "Dame tu opción: d\n",
            "\n",
            "\n",
            "\tE L I M I N A R   P R O D U C T O\n",
            "\n",
            "Ingresa nombre del producto que quieres eliminar:agua\n",
            "El producto agua  ha sido eliminado del inventario.\n",
            "\n",
            "Dame tu opción: e\n",
            "\n",
            "\n",
            "\n",
            "\n",
            "Opción inválida. \n",
            "Por favor, elige una opción válida.\n",
            "\n",
            "Dame tu opción: s\n",
            "\n",
            "\n",
            "Hasta luego!\n"
          ]
        }
      ]
    },
    {
      "cell_type": "markdown",
      "source": [
        "Este código crea un menú interactivo para manejar las operaciones en una tienda. Los comentarios explican cada parte del código:\n",
        "\n",
        "Se imprime el encabezado de la tienda y las opciones de operación.\n",
        "Se inicia un bucle que permite al usuario seleccionar diferentes operaciones.\n",
        "En cada iteración del bucle, se solicita una opción al usuario.\n",
        "Si se elige \"s\", el programa se detiene.\n",
        "Si se elige \"a\", se solicita el nombre y la cantidad del producto y se llama a la función agregar_producto.\n",
        "Si se elige \"b\", se solicita el nombre del producto y se llama a la función buscar_producto.\n",
        "Si se elige \"c\", se solicita el nombre del producto y la nueva cantidad, y se llama a la función actualizar_cantidad.\n",
        "Si se elige \"d\", se solicita el nombre del producto y se llama a la función eliminar_producto.\n",
        "Si se elige una opción no válida, se muestra un mensaje de error.\n",
        "Este código te permite interactuar con el inventario de la tienda de acuerdo a las diferentes opciones seleccionadas."
      ],
      "metadata": {
        "id": "BSqN2JCbV7wV"
      }
    }
  ]
}