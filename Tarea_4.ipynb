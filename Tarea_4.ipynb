{
  "nbformat": 4,
  "nbformat_minor": 0,
  "metadata": {
    "colab": {
      "provenance": [],
      "authorship_tag": "ABX9TyMlfdOgPfcrZCR7q8nTdRLS",
      "include_colab_link": true
    },
    "kernelspec": {
      "name": "python3",
      "display_name": "Python 3"
    },
    "language_info": {
      "name": "python"
    }
  },
  "cells": [
    {
      "cell_type": "markdown",
      "metadata": {
        "id": "view-in-github",
        "colab_type": "text"
      },
      "source": [
        "<a href=\"https://colab.research.google.com/github/fpabi/Tareas/blob/main/Tarea_4.ipynb\" target=\"_parent\"><img src=\"https://colab.research.google.com/assets/colab-badge.svg\" alt=\"Open In Colab\"/></a>"
      ]
    },
    {
      "cell_type": "code",
      "execution_count": 2,
      "metadata": {
        "id": "CkV74MFTadST"
      },
      "outputs": [],
      "source": [
        "inventario=dict()\n",
        "inventario['leche'] = 21\n",
        "inventario['huevos'] = 50\n",
        "inventario['gelatina'] =35\n",
        "inventario['cereal'] = 30\n",
        "inventario['mayonesa'] =23\n",
        "inventario['catsup'] =20\n",
        "inventario['galletas'] = 65\n",
        "inventario['jamon'] = 30\n",
        "inventario['queso'] = 40\n",
        "inventario['pan'] = 40\n",
        "inventario['tortillas'] =73\n",
        "inventario['salsa'] = 32\n"
      ]
    },
    {
      "cell_type": "code",
      "source": [
        "def agregar_producto(producto,cantidad):\n",
        "  inventario[producto] = cantidad\n",
        "  print(\"Se ha agregado\", cantidad, \"unidades de\",producto, \"al inventario.\")\n"
      ],
      "metadata": {
        "id": "qYX1UlqOj70f"
      },
      "execution_count": 5,
      "outputs": []
    },
    {
      "cell_type": "code",
      "source": [
        "def buscar_producto(producto):\n",
        "    if producto in inventario:\n",
        "        print(\"El producto\", producto, \"está en el inventario.\\nCantidad disponible:\", inventario[producto])\n",
        "    else:\n",
        "        print(\"El producto\",producto,\"no se encontró en el inventario.\")\n"
      ],
      "metadata": {
        "id": "o1r-fefEwwsa"
      },
      "execution_count": 4,
      "outputs": []
    },
    {
      "cell_type": "code",
      "source": [
        "def actualizar_cantidad(producto,nueva_cantidad):\n",
        "  if producto in inventario:\n",
        "    inventario[producto] = nueva_cantidad\n",
        "    print(\"Se ha actualizado la cantidad de\",producto,\" a \",nueva_cantidad,\" en el inventario.\")\n",
        "  else:\n",
        "    print(\"El producto\",producto,\"no se encontró en el inventario.\")"
      ],
      "metadata": {
        "id": "By_Mbh1--YYJ"
      },
      "execution_count": 6,
      "outputs": []
    },
    {
      "cell_type": "code",
      "source": [
        "def eliminar_producto(producto):\n",
        "    if producto in inventario:\n",
        "        del inventario[producto]\n",
        "        print(\"El producto\",producto,\" ha sido eliminado del inventario.\")\n",
        "    else:\n",
        "        print(\"El producto\",producto,\" no se encontró en el inventario.\")\n"
      ],
      "metadata": {
        "id": "B4D7HnUM__Si"
      },
      "execution_count": 7,
      "outputs": []
    },
    {
      "cell_type": "code",
      "source": [],
      "metadata": {
        "id": "mfWFIQivEooN"
      },
      "execution_count": null,
      "outputs": []
    }
  ]
}