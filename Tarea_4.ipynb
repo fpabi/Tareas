{
  "nbformat": 4,
  "nbformat_minor": 0,
  "metadata": {
    "colab": {
      "provenance": [],
      "authorship_tag": "ABX9TyP/eabN0ZgBZNN+/fLydV3I",
      "include_colab_link": true
    },
    "kernelspec": {
      "name": "python3",
      "display_name": "Python 3"
    },
    "language_info": {
      "name": "python"
    }
  },
  "cells": [
    {
      "cell_type": "markdown",
      "metadata": {
        "id": "view-in-github",
        "colab_type": "text"
      },
      "source": [
        "<a href=\"https://colab.research.google.com/github/fpabi/Tareas/blob/main/Tarea_4.ipynb\" target=\"_parent\"><img src=\"https://colab.research.google.com/assets/colab-badge.svg\" alt=\"Open In Colab\"/></a>"
      ]
    },
    {
      "cell_type": "code",
      "execution_count": 2,
      "metadata": {
        "id": "CkV74MFTadST"
      },
      "outputs": [],
      "source": [
        "inventario=dict()\n",
        "inventario['leche'] = 21\n",
        "inventario['huevos'] = 50\n",
        "inventario['gelatina'] =35\n",
        "inventario['cereal'] = 30\n",
        "inventario['mayonesa'] =23\n",
        "inventario['catsup'] =20\n",
        "inventario['galletas'] = 65\n",
        "inventario['jamon'] = 30\n",
        "inventario['queso'] = 40\n",
        "inventario['pan'] = 40\n",
        "inventario['tortillas'] =73\n",
        "inventario['salsa'] = 32\n"
      ]
    },
    {
      "cell_type": "code",
      "source": [
        "def agregar_producto(producto,cantidad):\n",
        "  inventario[producto] = cantidad\n",
        "  print(\"Se ha agregado\", cantidad, \"unidades de\",producto, \"al inventario.\")\n"
      ],
      "metadata": {
        "id": "qYX1UlqOj70f"
      },
      "execution_count": 4,
      "outputs": []
    },
    {
      "cell_type": "code",
      "source": [
        "def buscar_producto(producto):\n",
        "    if producto in inventario:\n",
        "        print(\"El producto\", producto, \"está en el inventario.\\nCantidad disponible:\", inventario[producto])\n",
        "    else:\n",
        "        print(\"El producto\",producto,\"no se encontró en el inventario.\")\n",
        "\n"
      ],
      "metadata": {
        "id": "o1r-fefEwwsa"
      },
      "execution_count": 6,
      "outputs": []
    },
    {
      "cell_type": "code",
      "source": [],
      "metadata": {
        "id": "By_Mbh1--YYJ"
      },
      "execution_count": null,
      "outputs": []
    }
  ]
}