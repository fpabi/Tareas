{
  "nbformat": 4,
  "nbformat_minor": 0,
  "metadata": {
    "colab": {
      "provenance": [],
      "authorship_tag": "ABX9TyOKdv0uxjKJifXlJDy6UoAo",
      "include_colab_link": true
    },
    "kernelspec": {
      "name": "python3",
      "display_name": "Python 3"
    },
    "language_info": {
      "name": "python"
    }
  },
  "cells": [
    {
      "cell_type": "markdown",
      "metadata": {
        "id": "view-in-github",
        "colab_type": "text"
      },
      "source": [
        "<a href=\"https://colab.research.google.com/github/fpabi/Tareas/blob/main/Tarea_6.ipynb\" target=\"_parent\"><img src=\"https://colab.research.google.com/assets/colab-badge.svg\" alt=\"Open In Colab\"/></a>"
      ]
    },
    {
      "cell_type": "markdown",
      "source": [
        "#TAREA 6\n",
        "Fabiana Pavón Arce\n",
        "\n",
        "Prof.Lazaro Bustio\n",
        "\n",
        "###Objetivo\n",
        "Eres un analista de datos en una empresa de comercio electrónico y se te ha proporcionado\n",
        "un archivo CSV llamado “datos_ventas.csv” que contiene datos de ventas de diferentes\n",
        "productos. Tu objetivo es realizar análisis básicos de los datos utilizando la biblioteca Pandas:"
      ],
      "metadata": {
        "id": "KAILY9mPts6i"
      }
    },
    {
      "cell_type": "markdown",
      "source": [
        "Usar la biblioteca de pandas"
      ],
      "metadata": {
        "id": "7yZVORdWtoOa"
      }
    },
    {
      "cell_type": "code",
      "execution_count": 2,
      "metadata": {
        "id": "uK9F5uC5pu_2"
      },
      "outputs": [],
      "source": [
        "import pandas as pd"
      ]
    },
    {
      "cell_type": "markdown",
      "source": [
        "Cargar los datos desde el archivo CSV y almacenarlos en un DataFrame llamado\n",
        "ventas."
      ],
      "metadata": {
        "id": "Y5iL9j7Btlh3"
      }
    },
    {
      "cell_type": "code",
      "source": [
        "csv_path =\"/content/datos_ventas.csv\"\n",
        "df = pd.read_csv(csv_path)"
      ],
      "metadata": {
        "id": "EqBsdOX6p2Ij"
      },
      "execution_count": 8,
      "outputs": []
    },
    {
      "cell_type": "code",
      "source": [],
      "metadata": {
        "id": "0dzgmBF1tfLF"
      },
      "execution_count": null,
      "outputs": []
    }
  ]
}